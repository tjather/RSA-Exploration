{
 "cells": [
  {
   "cell_type": "markdown",
   "metadata": {},
   "source": [
    "## RSA - The Project"
   ]
  },
  {
   "cell_type": "markdown",
   "metadata": {},
   "source": [
    "<hr />\n",
    "\n",
    "# Table of Contents\n",
    "\n",
    "### 1. Introduction\n",
    "\n",
    "### 2. RSA Code Package\n",
    "###### &nbsp;&nbsp;&nbsp;&nbsp;&nbsp;&nbsp; 2.1 Basic tool set\n",
    "###### &nbsp;&nbsp;&nbsp;&nbsp;&nbsp;&nbsp; 2.2 First tool set\n",
    "###### &nbsp;&nbsp;&nbsp;&nbsp;&nbsp;&nbsp; 2.3 Second tool set\n",
    "\n",
    "### 3. RSA More Code\n",
    "\n",
    "###### &nbsp;&nbsp;&nbsp;&nbsp;&nbsp;&nbsp;  Encode\n",
    "###### &nbsp;&nbsp;&nbsp;&nbsp;&nbsp;&nbsp;  Decode\n",
    "\n",
    "### 4. Demo of encoding and decoding a message that highlights how the code works and the steps involved.\n",
    "\n",
    "### 5. Results of exchanging codes with others.  \n",
    "\n",
    "### 6. Narrative\n",
    "\n",
    "### 7. Why FME?\n",
    "\n",
    "### 8. How to break codes\n",
    "\n",
    "### 9. Code breaking complete examples\n",
    "\n",
    "### 10.Custom code feature / Advanced options"
   ]
  },
  {
   "cell_type": "markdown",
   "metadata": {},
   "source": [
    "\n",
    "\n",
    "\n",
    "\n",
    "\n"
   ]
  },
  {
   "cell_type": "markdown",
   "metadata": {},
   "source": [
    "\n",
    "\n",
    "\n",
    "\n",
    "\n",
    "\n",
    "### 1. Introduction to the RSA Package and Project."
   ]
  },
  {
   "cell_type": "markdown",
   "metadata": {},
   "source": [
    "   In the following sections, one of the most common public-key encryption schemes, called RSA, will be explored and also built from the ground up. Every single day we utilize numerous these concepts to esnure security and saftey of our information online. It is thanks to RSA that our transactions online are not public knowledge. Even more importatnly RSA is key in garuanteeting the saftey of our passwords, bank account information, electronic payment transactions, and so much more. During this project I explored critical number theory concepts that play an integral role in the modern RSA public-key encryption scheme, namely, prime factorization, modular arithmetic and greatest common divisors.\n",
    "   \n",
    "   In the following sections I first implemented a basic tool set that would process messages before or after they went through the RSA algorithm. Then, using the concepts from the book and lectures, I implemented a function to take care of fast modular exponentiation and the basic and extended eucleidan algorithms. Once all these helper functions were created, functions to find public and privated keys were created as well as those used to encode and decode messages. In the rest of this project, these functions are then utilized to exchange messages and more of my journey is outlined. In the end, I then take a crack at breaking codes and analyze the security of RSA. Thank you for taking the time to read through this project and my findings.\n",
    "    "
   ]
  },
  {
   "cell_type": "markdown",
   "metadata": {},
   "source": [
    "### 2.1\n",
    "#### Basic tool set\n",
    "\n",
    "These are functions that are needed to pre-process the messages before the messages are encoded and decoded by the RSA algorithm. \n"
   ]
  },
  {
   "cell_type": "code",
   "execution_count": 13,
   "metadata": {},
   "outputs": [],
   "source": [
    "def Convert_Text(_string):\n",
    "    \"\"\"\n",
    "    Define this function such that it takes in a simple \n",
    "    string such as \"hello\" and outputs the corresponding\n",
    "    standard list of integers (ascii) for each letter in the word hello.\n",
    "    For example:\n",
    "    _string = hello\n",
    "    integer_list = [104, 101, 108, 108, 111]\n",
    "    \n",
    "    You may use \"ord()\"\n",
    "    \"\"\"\n",
    "    integer_list = [] # declare a list to hold each integer\n",
    "    \n",
    "    for i in _string: # loop through each character in the string\n",
    "        integer_list.append(ord(i)) #get the Unicode code for the charcter and add it to the list\n",
    "    \n",
    "    return integer_list # return the list of integers\n"
   ]
  },
  {
   "cell_type": "code",
   "execution_count": 14,
   "metadata": {},
   "outputs": [],
   "source": [
    "def Convert_Num(_list):\n",
    "    \"\"\"\n",
    "    Do the opposite of what you did in the Convert_Text\n",
    "    function defined above.\n",
    "    \n",
    "    Define this function such that it takes in a list of integers\n",
    "    and outputs the corresponding string (ascii).\n",
    "    \n",
    "    For example:\n",
    "    _list = [104, 101, 108, 108, 111]\n",
    "    _string = hello\n",
    "    \n",
    "    I used built-in function chr for this implementation.\n",
    "    https://docs.python.org/3/library/functions.html#chr\n",
    "    \"\"\"\n",
    "    _string = '' #declare variable to hold the string\n",
    "    \n",
    "    for i in _list: # loop through each number in the list\n",
    "        _string += chr(i) # use built-in function chr to convert Unicode in to ASCII\n",
    "        \n",
    "    return _string # return the string\n"
   ]
  },
  {
   "cell_type": "code",
   "execution_count": 15,
   "metadata": {},
   "outputs": [],
   "source": [
    "def Convert_Binary_String(_int):\n",
    "    \"\"\"\n",
    "    Here, you need to define a function that converts an integer to\n",
    "    a string of its binary expansion.\n",
    "    \n",
    "    For example:\n",
    "    _int = 345\n",
    "    bits = 101011001\n",
    "    \n",
    "    I used built-in function bin for this implementation.\n",
    "    https://docs.python.org/3/library/functions.html#bin\n",
    "    \"\"\"\n",
    "    bits = bin(_int)[2:] #use built-in function bin to convert from int to binary and ignore the first two charcters which are 0b\n",
    "    \n",
    "    return bits\n"
   ]
  },
  {
   "cell_type": "markdown",
   "metadata": {},
   "source": [
    "### 2.2 \n",
    "#### First tool set.\n",
    "\n"
   ]
  },
  {
   "cell_type": "code",
   "execution_count": 16,
   "metadata": {
    "tags": []
   },
   "outputs": [],
   "source": [
    "def FME(b, n, m):\n",
    "   \n",
    "    reversedBinaryString = [] # declare empty array to hold the reversed string\n",
    "    while True: # loop untill break is called\n",
    "        reversedBinaryString.append(( n % 2)) # find the remainder and create a string in big endian format\n",
    "        n = int((n - (n % 2)) / 2)  # divided the quotient by 2\n",
    "        if ( n <= 0):   # loop untill there is no quotient remaining \n",
    "            break       # exit loop when the there is no remainder\n",
    "\n",
    "    binaryStringLength = len(reversedBinaryString) #intailze a variable with the length of the array\n",
    "    result = 1 #declare a variable to hold the result\n",
    "    square = b #intialze the squre value with the user input\n",
    "    i = 0   #delcare counter for array postion\n",
    "\n",
    "    while i < binaryStringLength: #loop through the whole binary string\n",
    "        if(reversedBinaryString[i] == 1): #check if the current bit postion is even\n",
    "            result = (result * square) % m #mulitply the result by the base and then take mod m\n",
    "\n",
    "        square = (square * square) % m #sqare the square and then take mod m every time\n",
    "\n",
    "        i += 1 #increment the postion counter\n",
    "    return result #print the result"
   ]
  },
  {
   "cell_type": "code",
   "execution_count": 17,
   "metadata": {
    "tags": []
   },
   "outputs": [],
   "source": [
    "def Euclidean_Alg(a, b):\n",
    "    \"\"\"\n",
    "    1. Calculate the Greatest Common Divisor of a and b.\n",
    "    \n",
    "    2. This version should have only postive inputs and outputs.\n",
    "    \n",
    "    3. \n",
    "    \n",
    "    The function must return a single integer 'x' which is\n",
    "    the gcd of a and b.\n",
    "    \n",
    "    \"\"\"\n",
    "    \n",
    "    if(a < 0 or b < 0): # check to ensure that the inputs are postive\n",
    "        print(\"All inputs have to be positive, please try again\") # print error message\n",
    "        return # exit the function\n",
    "    \n",
    "    if(a < b): # check to ensure that a is larger than b\n",
    "        temp = a # decalre temp variable to hold value of a\n",
    "        a = b # assign value of b to a\n",
    "        b = temp # assign old value of a to b\n",
    "    \n",
    "    while(b > 0): # loop untill b is no longer greater than 0\n",
    "        k = a % b # declare k to hold the remainder of a / b\n",
    "        a = b # assign a to b\n",
    "        b = k # assign b to the remainder\n",
    "        \n",
    "    return a # return the gcd of the orignal values of a and b"
   ]
  },
  {
   "cell_type": "code",
   "execution_count": 18,
   "metadata": {},
   "outputs": [],
   "source": [
    "def extendedEuclideanAlg(m, n):\n",
    "    \"\"\"\n",
    "    This is a helper function used in Find_Private_Key_d() \n",
    "\n",
    "    This function returns m, s1, and t1 which is \n",
    "    the gcd of the two original inputs and the coresponding Bezout coefficents\n",
    "    \"\"\"\n",
    "    m0, n0 = m, n   # initialize constants m0 and n0 to store intial values of m and n\n",
    "    s1, t1 = 1, 0   # initialize Bezout coefficients s1 and t1 with 1 and 0\n",
    "    s2, t2 = 0, 1   # initialize Bezout coefficients s2 and t2 with 0 and 1\n",
    "        \n",
    "    while (n > 0):\n",
    "        k = m % n   # compute the reminder by taking m mod n\n",
    "        q = m // n  # compute the quotient and round down to nearest whole number \n",
    "        \n",
    "        m = n   # set m to the current value of n\n",
    "        n = k   # set n equal to the remainder\n",
    "            \n",
    "        s1_temp, t1_temp = s2, t2  # declare temp variables to hold the old values of s2 and t2\n",
    "        s2_temp, t2_temp = s1-q*s2, t1-q*t2 # declare temp variables to hold updated Bezout coefficients\n",
    "            \n",
    "        s1, t1 = s1_temp, t1_temp   # update the Bezout coefficients for s1 and t1\n",
    "        s2, t2 = s2_temp, t2_temp   # update the Bezout coefficients for s2 and t2\n",
    "    \n",
    "    return m, s1, t1 #print out the gcd and the Bezout coefficients"
   ]
  },
  {
   "cell_type": "markdown",
   "metadata": {},
   "source": [
    "### 2.3\n",
    "#### Second tool set\n",
    "\n",
    "Here is the implemtnation of the core of the RSA cryptosystem. The functions below will generate the public and private key pairs which will then be used to create a ciphertext using the public key and then decode the same using the pirvate key.\n",
    "\n"
   ]
  },
  {
   "cell_type": "code",
   "execution_count": 19,
   "metadata": {},
   "outputs": [],
   "source": [
    "import random as random\n",
    "\n",
    "def Find_Public_Key_e(p, q):\n",
    "    \"\"\"\n",
    "    This function takes 2 primes p and q.\n",
    "    \n",
    "    The function returns 2 elements as follows:\n",
    "    public key: n\n",
    "    public key: e    \n",
    "    \"\"\"\n",
    "    \n",
    "    n = p * q # find the product of p and q\n",
    "    \n",
    "    if(n < 150):  # p*q should be larger thatn 150 to avoid issues with ASCII\n",
    "        print(\"Product is less than 150 please select larger prime numbers\") # print a error message \n",
    "        return  # exit the function\n",
    "        \n",
    "    while True: #loop until the loop is exited\n",
    "        e = random.randrange(10,10000)  # randomly pick a value for e\n",
    "        #check if the value of e is relatively prime to (p-1) * (p-1)\n",
    "        if (Euclidean_Alg(e, (p-1) * (q-1)) == 1 and e != p and e != q): \n",
    "            break   # if e is realatively prime exit the loop\n",
    "        \n",
    "    return n, e #return public key"
   ]
  },
  {
   "cell_type": "code",
   "execution_count": 20,
   "metadata": {},
   "outputs": [],
   "source": [
    "def Find_Private_Key_d(e, p, q):\n",
    "    \"\"\"\n",
    "    This method finds the decryption exponent d such that\n",
    "    d is the modular inverse of e. \n",
    "    \n",
    "    This will use the Extended Euclidean Algorithm\n",
    "    \n",
    "    This function returns the following:\n",
    "    d: the decryption component.    \n",
    "    \"\"\"\n",
    "    phi = (p-1) * (q-1) # Find Euler's totient\n",
    "    \n",
    "    m, s, t = extendedEuclideanAlg(e, phi) # Use the Extended Euclidean Algorithm to claculate the gcd and bezout coefficients\n",
    "    \n",
    "    d = s # Assign the bezout coefficent that is the inverse of e\n",
    "    \n",
    "    while(d < 0): # ensure that d is not negative\n",
    "        d += phi  # if d is negative find a postive value that is congruent under the modulus to d\n",
    "        \n",
    "    return d # return the decryption exponent"
   ]
  },
  {
   "cell_type": "markdown",
   "metadata": {},
   "source": [
    "### 3.\n",
    "#### Putting things all together.\n",
    "\n",
    "1. In this part, I have defined two functions `Encode` and `Decode` which will use the public and private keys that were calculated using the above 2 functions in the second toolset.\n",
    "2. Using the public key, the `Encode` function will encode a message and generate the corresponding cipher_text.\n",
    "3. Using the private key, the `Decode` function will decode a ciper_text and recover the original message.\n",
    "\n"
   ]
  },
  {
   "cell_type": "code",
   "execution_count": 21,
   "metadata": {},
   "outputs": [],
   "source": [
    "def Encode(n, e, message):\n",
    "    \"\"\"\n",
    "    Here, the message will be a string of characters.\n",
    "    Useing the function Convert_Text from \n",
    "    the basic tool set we get a list of numbers.\n",
    "    \n",
    "    Each of those numbers are encoded using n and e and\n",
    "    the encoded cipher_text is returned.\n",
    "    \"\"\"\n",
    "    cipher_text = [] #decalre an array to hold the encoded message\n",
    "    \n",
    "    integers_list = Convert_Text(message) #convert the string of characters into ASCII\n",
    "    \n",
    "    for i in integers_list: # loop through each element in the list\n",
    "        cipher_text.append(FME(i, e, n)) # use FME to encode each number using e and n and then add it to the encrypted list\n",
    "    \n",
    "    return cipher_text # return the encoded message"
   ]
  },
  {
   "cell_type": "code",
   "execution_count": 22,
   "metadata": {},
   "outputs": [],
   "source": [
    "def Decode(n, d, cipher_text):\n",
    "    \"\"\"\n",
    "    Here, the cipher_text will be a list of integers.\n",
    "    First, each of those integers is decrypted using \n",
    "    n and d.\n",
    "    \n",
    "    The fnction Convert_Num, that converts the integers to a string, \n",
    "    from the basic toolset is used to recover the original message as a string. \n",
    "    \n",
    "    \"\"\"\n",
    "    message = '' # declare message to hold the decoded character string\n",
    "    decoded = [] # declare decoded to hold the decoded ASCII list\n",
    "    \n",
    "    for i in cipher_text: # loop through each element in the encoded array\n",
    "        decoded.append(FME(i, d, n)) # use FME to decode each number using d and n and then add it to the decoded list\n",
    "        \n",
    "    message = Convert_Num(decoded) # convert the ASCII into a string of characters\n",
    "    \n",
    "    return message # return the decoded message"
   ]
  },
  {
   "cell_type": "markdown",
   "metadata": {
    "tags": []
   },
   "source": [
    "### 4. Demo \n",
    "This is a step by step guide to using my code with a specific examples that can be followed using the functions created above. \n",
    "Basically this is a test that demonstates that the code works.\n",
    "\n",
    "\n",
    "* Generate Keys - describing your method in the text block\n",
    "\n",
    "* Encode a message.\n",
    "\n",
    "* Decode a message from Piazza\n",
    "\n",
    "* Add new blocks by using the A and B keys - select text or code above."
   ]
  },
  {
   "cell_type": "markdown",
   "metadata": {},
   "source": [
    "\n",
    "#### Generating Keys\n",
    "Now that all the code above has been developed it is time for us to begin the RSA process, the first step being that I have to create my own Public and Private Keys. In order to do this we must first find 2 prime number's p and q. This can easily be done by looking up prime numbers and then picking two of them. However, if the product of these two are less than 150, the user will get an error message and be asked to choose another two prime numbers. For this demo I chose p to be 43 and q to be 97. Each time this is run a new value of e will be returned as I am utlizing the random funciton in python."
   ]
  },
  {
   "cell_type": "code",
   "execution_count": 23,
   "metadata": {},
   "outputs": [
    {
     "name": "stdout",
     "output_type": "stream",
     "text": [
      "4171 6781\n"
     ]
    }
   ],
   "source": [
    "(n,e) = Find_Public_Key_e(43,97)\n",
    "print (n,e)"
   ]
  },
  {
   "cell_type": "markdown",
   "metadata": {},
   "source": [
    "Now that we have our public key (4171, 1909) that we can send out we must next cauclute d and get the private key. This function utilzies the extended eculidean algoritim to find the inverse of e modulo (43-1) * (97-1)."
   ]
  },
  {
   "cell_type": "code",
   "execution_count": 24,
   "metadata": {},
   "outputs": [
    {
     "name": "stdout",
     "output_type": "stream",
     "text": [
      "2845\n"
     ]
    }
   ],
   "source": [
    "#first run I got 4171, 1909 for the public key\n",
    "\n",
    "d = Find_Private_Key_d(1909,43,97)\n",
    "print(d)"
   ]
  },
  {
   "cell_type": "markdown",
   "metadata": {},
   "source": [
    "Now we also have found our private key (4171, 2845) and can move on to encoding a message and then decoding a message. \n",
    "\n",
    "#### Encoding a Message\n",
    "Now with our public key (4171, 1909) we can encoude a message, utilizing FME, as seen below."
   ]
  },
  {
   "cell_type": "code",
   "execution_count": 25,
   "metadata": {},
   "outputs": [
    {
     "name": "stdout",
     "output_type": "stream",
     "text": [
      "[2978, 2421, 1754, 3512, 3467, 2739, 1485, 3521, 3467, 3512, 1434, 3467, 2421, 3521, 1754, 1485, 2739, 2421, 3467, 3512, 157, 2037, 3512, 3467, 2421, 3521, 1605, 170, 2739, 2512, 3512, 564, 1434, 3521, 3467, 2037, 3521, 2976, 3467, 2976, 2421, 1605, 2739, 170, 2512, 3512, 564, 1434, 3521, 3467, 157, 2037, 1754, 3467, 2037, 3467, 2512, 2739, 1434, 2512, 2421, 2739, 727, 170, 3467, 992, 1434, 2739, 3143, 564, 3521, 3207, 3467, 564, 1773, 2512, 727, 2421, 1773, 2421, 3521, 3512, 2037, 3512, 564, 1434, 3521]\n"
     ]
    }
   ],
   "source": [
    "# Public key n,e = (4171, 1909)\n",
    "\n",
    "message = \"Test run to ensure that encyrption and decryption has a properly working implementation\"\n",
    "encode_q = Encode(4171, 1909, message)\n",
    "print(encode_q)"
   ]
  },
  {
   "cell_type": "markdown",
   "metadata": {},
   "source": [
    "To test that this message has been properly encoded let us try and decode it using our private key. Just like when encrypting a message, decryption also utilzies FME."
   ]
  },
  {
   "cell_type": "code",
   "execution_count": 26,
   "metadata": {},
   "outputs": [
    {
     "name": "stdout",
     "output_type": "stream",
     "text": [
      "Test run to ensure that encyrption and decryption has a properly working implementation\n"
     ]
    }
   ],
   "source": [
    "# Private key n,d = (4171, 2845)\n",
    "\n",
    "d = [2978, 2421, 1754, 3512, 3467, 2739, 1485, 3521, 3467, 3512, 1434, 3467, 2421, 3521, 1754, 1485, 2739, 2421, 3467, 3512, 157, 2037, 3512, 3467, 2421, 3521, 1605, 170, 2739, 2512, 3512, 564, 1434, 3521, 3467, 2037, 3521, 2976, 3467, 2976, 2421, 1605, 2739, 170, 2512, 3512, 564, 1434, 3521, 3467, 157, 2037, 1754, 3467, 2037, 3467, 2512, 2739, 1434, 2512, 2421, 2739, 727, 170, 3467, 992, 1434, 2739, 3143, 564, 3521, 3207, 3467, 564, 1773, 2512, 727, 2421, 1773, 2421, 3521, 3512, 2037, 3512, 564, 1434, 3521]\n",
    "d = Decode(4171, 2845, d)\n",
    "print(d)"
   ]
  },
  {
   "cell_type": "markdown",
   "metadata": {},
   "source": [
    "#### Decode a message from someone else\n",
    "Now that we have seen that creating our own public and private keys allows use to encrypt and decyrpt our own message lets try decoding one of the messages that was given to us. To do this I used the private key that was provided and my Decode funciton to find the contents of the orignal message."
   ]
  },
  {
   "cell_type": "code",
   "execution_count": 27,
   "metadata": {},
   "outputs": [
    {
     "name": "stdout",
     "output_type": "stream",
     "text": [
      "What song best describes the feeling you get when your RSA code is working?\n"
     ]
    }
   ],
   "source": [
    "# Public key n,e = (5251,3)\n",
    "# Private key n,d = (5251, 3403)\n",
    "\n",
    "encoded_message = [2128, 1150, 4250, 1349, 1262, 3336, 2371, 2497, 519, 1262, 1263, 1105, 3336, 1349, 1262, 2310, 1105, 3336, 4115, 762, 2405, 1263, 1105, 3336, 1262, 1349, 1150, 1105, 1262, 506, 1105, 1105, 4723, 2405, 2497, 519, 1262, 1974, 2371, 58, 1262, 519, 1105, 1349, 1262, 4839, 1150, 1105, 2497, 1262, 1974, 2371, 58, 762, 1262, 13, 4679, 1573, 1262, 4115, 2371, 2310, 1105, 1262, 2405, 3336, 1262, 4839, 2371, 762, 1560, 2405, 2497, 519, 3250]\n",
    "orignial_message = Decode(5251, 3403, encoded_message)\n",
    "print(orignial_message)"
   ]
  },
  {
   "cell_type": "markdown",
   "metadata": {},
   "source": [
    "Now that I had a message, it was time to come up with an answer. As I choose Levitating (feat. DaBaby) by Dua Lipa, I then used the public key to encrypt this message and send it back."
   ]
  },
  {
   "cell_type": "code",
   "execution_count": 29,
   "metadata": {},
   "outputs": [
    {
     "name": "stdout",
     "output_type": "stream",
     "text": [
      "[3143, 1105, 4720, 2405, 1349, 4250, 1349, 2405, 2497, 519, 1262, 988, 506, 1105, 4250, 1349, 2818, 1262, 4623, 4250, 3942, 4250, 1263, 1974, 658, 1262, 1263, 1974, 1262, 4623, 58, 4250, 1262, 3143, 2405, 2911, 4250]\n"
     ]
    }
   ],
   "source": [
    "feeling = \"Levitating (feat. DaBaby) by Dua Lipa\"\n",
    "encode_feeling = Encode(5251, 3, feeling)\n",
    "print(encode_feeling)"
   ]
  },
  {
   "cell_type": "markdown",
   "metadata": {},
   "source": [
    "### 5.\n",
    "\n",
    "#### Response to Song Prompt"
   ]
  },
  {
   "cell_type": "code",
   "execution_count": 30,
   "metadata": {},
   "outputs": [
    {
     "name": "stdout",
     "output_type": "stream",
     "text": [
      "What song best describes the feeling you get when your RSA code is working?\n"
     ]
    }
   ],
   "source": [
    "# Public key n,e = (5251,3)\n",
    "# Private key n,d = (5251, 3403)\n",
    "message = [2128, 1150, 4250, 1349, 1262, 3336, 2371, 2497, 519, 1262, 1263, 1105, 3336, 1349, 1262, 2310, 1105, 3336, 4115, 762, 2405, 1263, 1105, 3336, 1262, 1349, 1150, 1105, 1262, 506, 1105, 1105, 4723, 2405, 2497, 519, 1262, 1974, 2371, 58, 1262, 519, 1105, 1349, 1262, 4839, 1150, 1105, 2497, 1262, 1974, 2371, 58, 762, 1262, 13, 4679, 1573, 1262, 4115, 2371, 2310, 1105, 1262, 2405, 3336, 1262, 4839, 2371, 762, 1560, 2405, 2497, 519, 3250]\n",
    "message_decode = Decode(5251, 3403, message)\n",
    "print(message_decode)"
   ]
  },
  {
   "cell_type": "code",
   "execution_count": 31,
   "metadata": {},
   "outputs": [
    {
     "name": "stdout",
     "output_type": "stream",
     "text": [
      "[3143, 1105, 4720, 2405, 1349, 4250, 1349, 2405, 2497, 519, 1262, 988, 506, 1105, 4250, 1349, 2818, 1262, 4623, 4250, 3942, 4250, 1263, 1974, 658, 1262, 1263, 1974, 1262, 4623, 58, 4250, 1262, 3143, 2405, 2911, 4250]\n"
     ]
    }
   ],
   "source": [
    "song_response = \"Levitating (feat. DaBaby) by Dua Lipa\"\n",
    "encode_song = Encode(5251, 3, song_response)\n",
    "print(encode_song)"
   ]
  },
  {
   "cell_type": "code",
   "execution_count": 32,
   "metadata": {},
   "outputs": [
    {
     "name": "stdout",
     "output_type": "stream",
     "text": [
      "Levitating (feat. DaBaby) by Dua Lipa\n"
     ]
    }
   ],
   "source": [
    "encrypted_song = [3143, 1105, 4720, 2405, 1349, 4250, 1349, 2405, 2497, 519, 1262, 988, 506, 1105, 4250, 1349, 2818, 1262, 4623, 4250, 3942, 4250, 1263, 1974, 658, 1262, 1263, 1974, 1262, 4623, 58, 4250, 1262, 3143, 2405, 2911, 4250]\n",
    "decoded_song = Decode(5251, 3403, encrypted_song)\n",
    "print(decoded_song)"
   ]
  },
  {
   "cell_type": "markdown",
   "metadata": {},
   "source": [
    "#### My Own Question and a Response"
   ]
  },
  {
   "cell_type": "code",
   "execution_count": 33,
   "metadata": {},
   "outputs": [
    {
     "name": "stdout",
     "output_type": "stream",
     "text": [
      "[1839, 1368, 2103, 489, 1708, 240, 2103, 3966, 1708, 240, 2, 169, 2103, 1044, 1552, 1157, 3807, 2103, 1708, 1041, 3807, 2103, 691, 240, 2757, 3807, 1224, 2757, 1708, 3470, 3807, 1224, 2103, 3470, 1044, 1552, 2785, 2103, 3470, 1708, 240, 2, 169, 2103, 2743, 2785, 2103, 2426, 3807, 2103, 1552, 1041, 169, 2103, 1044, 1708, 3470, 2103, 3470, 1708, 240, 2, 169, 2103, 489, 1708, 240, 2103, 240, 691, 3807, 2103, 2743, 2785, 1533]\n"
     ]
    }
   ],
   "source": [
    "#Public key n,e = (4171, 9827)\n",
    "#Private key n,d = (4171, 3275)\n",
    "\n",
    "my_question = \"If you could have one superpower what would it be and how would you use it?\"\n",
    "encoded_question = Encode(4171, 9827, my_question)\n",
    "print(encoded_question)"
   ]
  },
  {
   "cell_type": "code",
   "execution_count": 34,
   "metadata": {},
   "outputs": [
    {
     "name": "stdout",
     "output_type": "stream",
     "text": [
      "Flying. Absolutely. I would just fly around all the time. And maybe rescue people every now and then.\n"
     ]
    }
   ],
   "source": [
    "prof_repsonse = [8, 2, 489, 2743, 1041, 81, 2179, 2103, 1292, 2426, 691, 1708, 2, 240, 2785, 3807, 2, 489, 2179, 2103, 1839, 2103, 3470, 1708, 240, 2, 169, 2103, 2565, 240, 691, 2785, 2103, 1368, 2, 489, 2103, 1552, 1224, 1708, 240, 1041, 169, 2103, 1552, 2, 2, 2103, 2785, 1044, 3807, 2103, 2785, 2743, 273, 3807, 2179, 2103, 1292, 1041, 169, 2103, 273, 1552, 489, 2426, 3807, 2103, 1224, 3807, 691, 3966, 240, 3807, 2103, 2757, 3807, 1708, 2757, 2, 3807, 2103, 3807, 1157, 3807, 1224, 489, 2103, 1041, 1708, 3470, 2103, 1552, 1041, 169, 2103, 2785, 1044, 3807, 1041, 2179]\n",
    "decode_prof_response = Decode(4171, 3275, prof_repsonse)\n",
    "print(decode_prof_response)"
   ]
  },
  {
   "cell_type": "markdown",
   "metadata": {},
   "source": [
    "#### Response to Another Question"
   ]
  },
  {
   "cell_type": "code",
   "execution_count": 35,
   "metadata": {},
   "outputs": [
    {
     "name": "stdout",
     "output_type": "stream",
     "text": [
      "Would you rather eat outside or eat in?\n"
     ]
    }
   ],
   "source": [
    "# Public Key n, e = (161, 13)\n",
    "# Private Key n, d = (161, 61)\n",
    "student_question = [94, 76, 96, 3, 156, 81, 128, 76, 96, 81, 114, 90, 116, 6, 150, 114, 81, 150, 90, 116, 81, 76, 96, 116, 115, 77, 156, 150, 81, 76, 114, 81, 150, 90, 116, 81, 77, 117, 56]\n",
    "student_question_decode = Decode(161, 61, student_question)\n",
    "print(student_question_decode)"
   ]
  },
  {
   "cell_type": "code",
   "execution_count": 36,
   "metadata": {},
   "outputs": [
    {
     "name": "stdout",
     "output_type": "stream",
     "text": [
      "[69, 55, 150, 117, 81, 116, 6, 76, 96, 40, 6, 81, 150, 90, 116, 77, 117, 40, 81, 77, 117, 81, 114, 150, 134, 96, 114, 77, 150, 115, 81, 102, 76, 114, 150, 81, 150, 130, 130, 76, 114, 116, 81, 108, 81, 76, 130, 116, 150, 117, 81, 150, 117, 57, 76, 128, 81, 116, 6, 150, 81, 14, 114, 76, 43, 150, 115, 115, 81, 90, 117, 156, 81, 130, 77, 117, 156, 81, 116, 6, 90, 116, 81, 108, 81, 90, 3, 115, 76, 81, 150, 117, 57, 76, 128, 81, 116, 6, 150, 81, 130, 76, 76, 156, 81, 102, 76, 114, 150, 81, 90, 115, 81, 90, 81, 114, 150, 115, 96, 3, 116, 81, 76, 130, 81, 102, 128, 81, 6, 90, 114, 156, 81, 154, 76, 114, 51, 46]\n"
     ]
    }
   ],
   "source": [
    "eating_response = \"Even though eating in requries more effort I often enjoy the process and find that I also enjoy the food more as a result of my hard work.\"\n",
    "encode_eating_response = Encode(161, 13, eating_response)\n",
    "print(encode_eating_response)"
   ]
  },
  {
   "cell_type": "code",
   "execution_count": 37,
   "metadata": {},
   "outputs": [
    {
     "name": "stdout",
     "output_type": "stream",
     "text": [
      "Even though eating in requries more effort I often enjoy the process and find that I also enjoy the food more as a result of my hard work.\n"
     ]
    }
   ],
   "source": [
    "eating_response = [69, 55, 150, 117, 81, 116, 6, 76, 96, 40, 6, 81, 150, 90, 116, 77, 117, 40, 81, 77, 117, 81, 114, 150, 134, 96, 114, 77, 150, 115, 81, 102, 76, 114, 150, 81, 150, 130, 130, 76, 114, 116, 81, 108, 81, 76, 130, 116, 150, 117, 81, 150, 117, 57, 76, 128, 81, 116, 6, 150, 81, 14, 114, 76, 43, 150, 115, 115, 81, 90, 117, 156, 81, 130, 77, 117, 156, 81, 116, 6, 90, 116, 81, 108, 81, 90, 3, 115, 76, 81, 150, 117, 57, 76, 128, 81, 116, 6, 150, 81, 130, 76, 76, 156, 81, 102, 76, 114, 150, 81, 90, 115, 81, 90, 81, 114, 150, 115, 96, 3, 116, 81, 76, 130, 81, 102, 128, 81, 6, 90, 114, 156, 81, 154, 76, 114, 51, 46]\n",
    "decode_eating_response = Decode(161, 61, eating_response)\n",
    "print(decode_eating_response)"
   ]
  },
  {
   "cell_type": "markdown",
   "metadata": {},
   "source": [
    "### 6. Narrative \n"
   ]
  },
  {
   "cell_type": "markdown",
   "metadata": {},
   "source": [
    "#### Code Exchange and Mistakes\n",
    "As I responded to the question posted by Professor Stade’s in the thread to exchange codes and keys, I felt like I was levitating once I got it all working. When initially exchanging codes with others, I found that I was able to respond to Professor Stade's message and decrypt it with no issue. From here I was also able to send a response and encrypt it without any issues so I thought to myself that it would just be smooth sailing from here on out. However, after I procced to send my own message, I joined weekly office hours to just discuss my progress and thoughts with Professor Stade, it was at this point were she pointed out that she was unable to decrypt my message. When I went to decrypt my own message, I obtained the following results:\n",
    "ੱુݣƯག૆ݣਸག૆αʩݣݫƄࡥ࡟ݣགŞ࡟ݣ౵૆ೋ࡟௉ೋགߟ࡟௉ݣߟݫƄഡݣߟག૆αʩݣ཮ഡݣְ࡟ݣƄŞʩݣݫགߟݣߟག૆αʩݣƯག૆ݣ૆౵࡟ݣ཮ഡ઺\n",
    "\n",
    "I was baffled as I was sure my implementation for each function followed what we learned in lectures as well as what the book for this class had told me. As I went back to test each and every function one by once again, I saw that everything worked as expected. Confused, I took a step away to clear my head and come back to this issue with a fresh pair of eyes. When I came back, I saw the silly mistake that I had made. In my excitement, I went about creating my own keys too fast and in the process I mixed up e, q, and p for my Find_Private_Key_d() function. This caused me to be unable to properly decode my message as the private key did not return the proper value for d and it was not the inverse of e modulo (p-1)*(q-1). By fixing this careless mistake, I was able to get the proper message that I had tried to send when decoding my encoded list.\n",
    "#### Process, Hurdles, and Resources\n",
    "When I first started this process, I read over each of the descriptions of the functions on week 1. At this point I admitted to myself that I didn’t have enough of the knowledge to start the implementation, so I spent the first week and a half reading the book and watching each of the lecture videos. In the lectures Sriram provided algorithms for many of the toolsets in part one so after watching these videos I coded the corresponding functions. Doing this I was able to complete the basic toolset, and at this point I turned to section 4.6 to finalize the encode and decode functions. This was the part that took me the longest as the book gave the formulas, but before I implemented these, I wanted to understand how the math behind it worked.\n",
    "While the number theory concepts and math behind this project did not cause me too much trouble, the actual python implementation took me the most time as figuring out how to turn these mathematical formulas into steps in pythons proved to take some time for me as this is my first exposure to python. Thus, I must credit Sriram for help on a lot of this project as he essentially provided a lot of the code that I used. However, outside of this the Piazza threads helped get my brain turning when I was faced with a wall. \n",
    "While all these resources did help, I must admit that the Best RSA Graphic Ever deserves its name. This resource was my first go to whenever doing anything on this project as it gave me the entire view of what I needed to get done and how it all fit together. For me this concept of zooming out then zooming in again proved to be most helpful when looking at the project and putting it all together. Even when I started, looking at the Best RSA Graphic Ever before coding allowed me to look at each function and determine its role in the overall algorithm. By doing this and understanding each function, coding the actual implementation didn’t seem as daunting as it first appeared.\n",
    "#### Closing Thoughts\n",
    "This project helped me understand RSA on a much deeper level, but even more importantly, it helped me learn key concepts in number theory such as why prime factorization is difficult (in the code breaking section), GCDs (Euler’s Algorithms), modular arithmetic, and much more. However, my biggest take away from this is that even a concept such as RSA that seems so complicated can be easily learned by first looking at the small concepts and building up to the larger ones. By taking my time and reading the book and watching the lectures before starting any code, the process that I once looked at with worry was completed much easier than I had thought. By working through one function at a time, and testing each one to ensure they worked properly before moving on to the next, I was able to avoid major headaches as I wrapped this project up. However, I must point out that my careless mistake mentioned in the beginning of these findings, took out hours of my day. Thus, another important take away is to take your time and double check each line of work, especially when you are confident as this confidence can lead to carelessness and cause major setbacks in your process.\n"
   ]
  },
  {
   "cell_type": "markdown",
   "metadata": {
    "tags": []
   },
   "source": [
    "### 7. FME Exploration\n",
    "\n",
    "\n",
    "\n",
    "* Explain in detail why RSA needs to use an FME function and cannot just simply use the Python Mod function % .\n",
    "\n",
    "* You may use your arguments from the Number theory Mastery Workbook.\n",
    "\n",
    "* Simple examples can be used or charts and graphs.\n"
   ]
  },
  {
   "cell_type": "code",
   "execution_count": 38,
   "metadata": {},
   "outputs": [],
   "source": [
    "def FakeFME():\n",
    "    x = pow(b,n) # calculate b^n\n",
    "\n",
    "    result = x % d # find b^n mod d\n",
    "    return result"
   ]
  },
  {
   "cell_type": "markdown",
   "metadata": {},
   "source": [
    "When I looked at FakeFME at first, I saw that it was performing much faster than the FME that is used in the actual implementation for RSA above.\n",
    "\n",
    "By utilizing the time library in python, I analyzed the runtime of FME with a few different values.\n",
    "\n",
    "When looking at 7^644 mod 645, FakeFME had a run time of 3.5e-05 seconds while FME had a runtime of 0.0015 seconds. However, I knew that this initial investigation could be deceiving so I continued looking into larger values. \n",
    "\n",
    "In the real world, RSA uses extremely large prime numbers I decided to try out 7^6440000000 mod 645 to compare the runtime. When I did this, I saw that the FME function that we use had a runtime of 6.3 seconds whereas the FakeFME function I created never returned a result because it was too slow. While this did make me suspect that we needed to use our FME function due to time complexity, as this didn't give me any results for the FakeFME function I had to keep on looking.\n",
    "\n",
    "Thus, when I finally changed the value of n to 644000, I once again saw that FME ran for 0.0012 seconds whereas the FakeFME ran for 0.2 seconds. These findings confirmed my suspicions that we need to use an FME function in order to properly find the modulus of large numbers. On the other hand, the built-in mod function cannot adequately handle large numbers. Thus, as RSA is built on the concept of modular arithmetic for both encoding (C = M^e mod n) and decoding (M = C^d mod n) it is essential that we have a fast and reliable way to compute these values. "
   ]
  },
  {
   "cell_type": "markdown",
   "metadata": {},
   "source": [
    "## CODE BREAKING ##\n",
    "\n",
    "This section of the project is only available to students exchanging codes by the Friday (midnight) before the project is due.\n",
    "\n",
    "After you have tested your RSA package yourself, and tested it with classmates by publishing both the private and public keys on Piazza, post 2 messages with just the public keys for people to break on the \"Just Public Keys\" thread - use both very small n ‘s (under 1000) for practice, and some with a challenge.\n",
    "\n",
    "\n",
    "**Implementing a factoring algorithm:**\n",
    "\n",
    "Begin by coding the basic brute force factorization algorithm given in pseudocode below.\n",
    "\n",
    "Brute Force Factoring\n",
    "<pre><code>def factorize(n):\n",
    "    # n is a number, return the smallest factor of n\n",
    "    for i from 2 to n-1:\n",
    "        if i divides n:\n",
    "            return i\n",
    "        return FALSE\n",
    "        </code></pre>\n"
   ]
  },
  {
   "cell_type": "code",
   "execution_count": 39,
   "metadata": {},
   "outputs": [],
   "source": [
    "def factorize(n):\n",
    "    # n is a number, return the smallest factor of n\n",
    "    for i in range(2,(n-1)): # loop through all numbers from 2 to n-1 untill a factor is found\n",
    "\n",
    "        if n%i == 0: # if i is a factor of n return i\n",
    "            return i\n",
    "        \n",
    "    return False # if no factor is found return false"
   ]
  },
  {
   "cell_type": "markdown",
   "metadata": {
    "tags": []
   },
   "source": [
    "### 8. How to Break Code. \n",
    "* Explain in detail how breaking works in this text block. \n",
    "* What are the complete steps? What tools do you need?\n",
    "* How secure is RSA? Why is it difficult to break codes in RSA? \n",
    "* Is our implementation of RSA secure? What are it's flaws?\n",
    "\n",
    "\n",
    "\n",
    "\n",
    "\n",
    "\n",
    "\n"
   ]
  },
  {
   "cell_type": "markdown",
   "metadata": {},
   "source": [
    "As was explained in the intro to this code breaking section, this alrgorithm is a brute force factorization algorithm. This means that this algorithm will keep on running until it comes up with a factor of n. All that was needed to do this was a loop and the modulo operator to see if the value of i was a factor of n or not. By going through every value from 2 to 1 less than n, if a factor existed it could eventually be found. However, if no factor existed this function would just return false.\n",
    "However, this may cause one to ask how secure RSA is. As metioned in the lectures and the textbook, finding the inverse of the product of two primes can be extremely difficult especailly as the product gets larger and larger. As is shown below, as n grows, our brute force algorithm takes more and more time. However, our implementation of RSA is not that secure as we can use an algorithm such as the basic brute force factorization algorithm above to break our public keys to decrypt encoded messages. Thus, our flaw is that we are using prime numbers that are too small so it is realivlety easy for us to use a brute force method to crack the public keys. However, if we were to use much larger prime numbers, such as is used in acutal RSA, this would no longer be an option for us, as finding the product would be simple but factoring this product of two primes would have a complexity of O(n)."
   ]
  },
  {
   "cell_type": "markdown",
   "metadata": {},
   "source": [
    "### 9. Decode!  Use a mix of text and code blocks\n",
    "\n",
    "* Decode one example in detial showing all the steps.\n",
    "* Decode and Respond to 3 \"just codes with public keys\" with different sizes of n. Include complete results here.\n",
    "* What did you notice about larger n s?\n",
    "\n",
    "Before I was able to decode any messages I saw that I would have to find the other factor and then also the private key to decrypt the message. Thus, instead of having to do this over and over again for all three message I decided to make another function below."
   ]
  },
  {
   "cell_type": "code",
   "execution_count": 40,
   "metadata": {},
   "outputs": [],
   "source": [
    "def find_private_key(n, p, e):\n",
    "    q = n / p #since we know p is one factor we can find q by dviding n by q\n",
    "    d = Find_Private_Key_d(e, p, q) # use Find_Private_Key_d to find d\n",
    "    \n",
    "    return d # return the private key"
   ]
  },
  {
   "cell_type": "markdown",
   "metadata": {},
   "source": [
    "#### Example 1 - Small Value of N \n",
    "Now that we have this we can start decoding messages. This first one was posted by a Professor Stade. In order to do this we first put n through our facotirze function to get the first factor. Then we pass the public key as well as the first factor into our find_private_key function. This then returns our private key value which we can use with our decode function to figure out what they cipher message says. Moreover, as one fo the questions above asked to look at the larger values of n, I read through the python documentation and used the time libarary to see how runtime changed as n got larger. Source: https://docs.python.org/3/library/time.html#time.time"
   ]
  },
  {
   "cell_type": "code",
   "execution_count": 41,
   "metadata": {},
   "outputs": [
    {
     "name": "stdout",
     "output_type": "stream",
     "text": [
      "Factorize runtime = 6.127357482910156e-05\n",
      "The Conquistador's treasure is buried south of Creed.\n"
     ]
    }
   ],
   "source": [
    "# Public Key: (703, 113)\n",
    "\n",
    "import time \n",
    "start = time.time() # use time libary to track start time\n",
    "\n",
    "n = 703\n",
    "e = 113\n",
    "p = factorize(n) # find the first factor of n\n",
    "\n",
    "end = time.time() # use time libary to track end time\n",
    "print(\"Factorize runtime = \" + str(end - start) +\"\") # print out runtime\n",
    "\n",
    "d = find_private_key(n, p, e) # find the private key\n",
    "\n",
    "Cipher = [544, 472, 233, 242, 250, 555, 591, 550, 376, 364, 210, 165, 526, 47, 555, 95, 476, 210, 242, 165, 95, 233, 526, 210, 376, 95, 233, 242, 364, 210, 242, 224, 376, 95, 364, 233, 47, 242, 210, 555, 376, 165, 472, 242, 555, 410, 242, 250, 95, 233, 233, 47, 145]\n",
    "\n",
    "decoded_cipher = Decode(n, d, Cipher)\n",
    "print(decoded_cipher)"
   ]
  },
  {
   "cell_type": "markdown",
   "metadata": {},
   "source": [
    "Now that we have found this all that is left is to come up with a response and then encrypt it using the orignal public key and my Encode function from earlier inorder to send it back to the orginial sender on Piazza."
   ]
  },
  {
   "cell_type": "code",
   "execution_count": 42,
   "metadata": {},
   "outputs": [
    {
     "name": "stdout",
     "output_type": "stream",
     "text": [
      "[368, 472, 233, 95, 233, 242, 364, 210, 242, 250, 95, 233, 233, 47, 242, 526, 591, 47, 242, 541, 472, 526, 165, 242, 165, 581, 519, 233, 242, 555, 410, 242, 165, 95, 233, 526, 210, 376, 95, 233, 242, 364, 210, 242, 224, 376, 95, 364, 233, 47, 242, 165, 472, 233, 95, 233, 242, 526, 591, 47, 242, 472, 555, 541, 242, 523, 376, 511, 472, 242, 47, 555, 233, 210, 242, 364, 165, 242, 511, 555, 210, 165, 195]\n"
     ]
    }
   ],
   "source": [
    "# Public Key: (703, 113)\n",
    "\n",
    "cipher_repsonse = \"Where is Creed and what type of treasure is buried there and how much does it cost?\"\n",
    "\n",
    "encoded_cipher_repsonse = Encode(703, 113, cipher_repsonse)\n",
    "print(encoded_cipher_repsonse)"
   ]
  },
  {
   "cell_type": "markdown",
   "metadata": {},
   "source": [
    "#### Example 2 - Medium Value of N "
   ]
  },
  {
   "cell_type": "code",
   "execution_count": 43,
   "metadata": {},
   "outputs": [
    {
     "name": "stdout",
     "output_type": "stream",
     "text": [
      "Factorize runtime = 9.894371032714844e-05\n",
      "Was this a difficult challenge for some?\n"
     ]
    }
   ],
   "source": [
    "#Public Key (n, e) = (870473, 14513)\n",
    "\n",
    "import time \n",
    "start = time.time() # use time libary to track start time\n",
    "\n",
    "n = 870473\n",
    "e = 14513\n",
    "p = factorize(n) # find the first factor of n\n",
    "\n",
    "end = time.time() # use time libary to track end time\n",
    "print(\"Factorize runtime = \" + str(end - start) +\"\") # print out runtime\n",
    "\n",
    "d = find_private_key(n, p, e) # find the private key\n",
    "\n",
    "cipher_message = [787825, 226245, 452721, 869061, 485679, 779636, 287189, 452721, 869061, 226245, 869061, 145789, 287189, 420006, 420006, 287189, 810665, 610577, 466742, 485679, 869061, 810665, 779636, 226245, 466742, 466742, 244428, 508074, 405134, 244428, 869061, 420006, 227577, 852539, 869061, 452721, 227577, 723754, 244428, 633537]\n",
    "\n",
    "decoded_message = Decode(n, d, cipher_message)\n",
    "print(decoded_message)"
   ]
  },
  {
   "cell_type": "code",
   "execution_count": 44,
   "metadata": {},
   "outputs": [
    {
     "name": "stdout",
     "output_type": "stream",
     "text": [
      "[60140, 779636, 226245, 508074, 324214, 452721, 869061, 485679, 227577, 869061, 485679, 779636, 244428, 869061, 420006, 226245, 810665, 485679, 227577, 852539, 287189, 173050, 244428, 869061, 226245, 466742, 405134, 227577, 852539, 287189, 485679, 779636, 723754, 102594, 869061, 840378, 852539, 244428, 226245, 324214, 287189, 508074, 405134, 869061, 485679, 779636, 287189, 452721, 869061, 145789, 287189, 145789, 508074, 585157, 485679, 869061, 82078, 852539, 227577, 345612, 244428, 869061, 485679, 227577, 869061, 840378, 244428, 869061, 485679, 227577, 227577, 869061, 145789, 287189, 420006, 420006, 287189, 810665, 610577, 466742, 485679, 557446]\n"
     ]
    }
   ],
   "source": [
    "#Public Key (n, e) = (870473, 14513)\n",
    "\n",
    "diffiulty_response = \"Thanks to the factorize algorithm, breaking this didn't prove to be too difficult.\"\n",
    "\n",
    "encoded_diffiulty_response = Encode(870473, 14513, diffiulty_response)\n",
    "print(encoded_diffiulty_response)"
   ]
  },
  {
   "cell_type": "markdown",
   "metadata": {},
   "source": [
    "#### Example 3 - Large Value of N "
   ]
  },
  {
   "cell_type": "code",
   "execution_count": 45,
   "metadata": {},
   "outputs": [
    {
     "name": "stdout",
     "output_type": "stream",
     "text": [
      "Factorize runtime = 0.00302886962890625\n",
      "Best Condiment and why?\n"
     ]
    }
   ],
   "source": [
    "#Public Key(n, e) = (1629592673, 13)\n",
    "\n",
    "import time \n",
    "start = time.time() # use time libary to track start time\n",
    "\n",
    "n = 1629592673\n",
    "e = 13\n",
    "p = factorize(n) # find the first factor of n\n",
    "\n",
    "end = time.time()  # find the first factor of n\n",
    "print(\"Factorize runtime = \" + str(end - start) +\"\") # print out runtime\n",
    "\n",
    "d = find_private_key(n, p, e) # find the private key\n",
    "\n",
    "final_cipher = [336489089, 790495352, 1026156174, 792037268, 328094142, 905762081, 1209896438, 1113193909, 1144895309, 1277232906, 1259837692, 790495352, 1113193909, 792037268, 328094142, 1217356319, 1113193909, 1144895309, 328094142, 1034684646, 1294431967, 1420736799, 1084640708]\n",
    "\n",
    "decoded_question = Decode(n, d, final_cipher)\n",
    "print(decoded_question)"
   ]
  },
  {
   "cell_type": "code",
   "execution_count": 46,
   "metadata": {},
   "outputs": [
    {
     "name": "stdout",
     "output_type": "stream",
     "text": [
      "[1028400221, 1209896438, 792037268, 328094142, 1026156174, 1217356319, 646001319, 904585720, 790495352, 328094142, 1217356319, 1026156174, 328094142, 1277232906, 792037268, 328094142, 1217356319, 1144895309, 1144895309, 1026156174, 328094142, 1217356319, 328094142, 1400752826, 1277232906, 904585720, 1400752826, 328094142, 792037268, 1209896438, 328094142, 1217356319, 1113193909, 1420736799, 792037268, 1294431967, 1277232906, 1113193909, 981351809, 328094142, 1420736799, 1209896438, 646001319, 328094142, 1234157864, 646001319, 792037268, 328094142, 1277232906, 792037268, 328094142, 1209896438, 1113193909, 1551412891]\n"
     ]
    }
   ],
   "source": [
    "#Public Key(n, e) = (1629592673, 13)\n",
    "\n",
    "condiment_response = \"Hot sauce as it adds a kick to anything you put it on.\"\n",
    "\n",
    "encoded_condiment_response = Encode(1629592673, 13, condiment_response)\n",
    "print(encoded_condiment_response)"
   ]
  },
  {
   "cell_type": "markdown",
   "metadata": {},
   "source": [
    "After initailly breaking and responding to these three messages I was unable to see much of a difference bettwen the values of n. Thus, I decided to track the time of the factorize function and noticed that there was a huge diffrence in speed as the digits of n grew. The first trial was a 3 digit value and took about 0.0001 seconds. Next when n had a 6 digit value, it took about 0.0002 seconds. Finally, when n was a 10 digit value the time went to 0.005 seconds. This shows that as n grows, it becomes harder and harder to find its prime factorization, as was suspected above with the FME and fakeFME functions."
   ]
  },
  {
   "cell_type": "markdown",
   "metadata": {},
   "source": [
    "\n",
    "### 10. Custom CODE Feature ##\n",
    "The last 15 points of the require a custom feature in your project. This is an opportinity for you to explore an RSA or coding topic of interest to you. At this point it is not about points, but exploring advanced ideas relevant to you.  This is also a feature that should be relevant to your programming ability. If you are in 1300, creating a main type function may be enough. If you are an experienced programmer, find a topic to push yourself. \n",
    "\n",
    "* The custom feature should be a \"Stand Alone\" feature at the end of the notebook.\n",
    "* If you want to use code from above, please copy the functions again as part of your feature so it can be tested independently.\n",
    "* Be sure to provide a demo of your feature showing that it works. This is a good check for you, shows us it works, and helps us if we are unable to get your feature to work when grading.\n",
    "* Do not forget the self-grading element.\n",
    "\n",
    "Custom Features could one or more of the following:\n",
    "\n",
    "1. Code breaking improvements. An exploration of factoring improvements and analyze how effective they are. Must include some kind of timing analysis and multiple code breaking. A superficial treatment will not recieve full points. Must be throughly tested with excellent investigations to recieve full points.\n",
    "2. A Python \"main\" function that allows a user to \"Get keys/Encode/Decode/Break Codes\" etc... This can use elements of initial RSA code above HOWEVER - Please copy and pan should be organized below. *Please include your complete new implementation below.*\n",
    "3. A script to read codes from Piazza data. You can copy and paste codes from Piazza into a txt files and then have your script read it. This is a VERY helpful tool for doing the project as well. \n",
    "4. Exploration of advanced factoring alogrithms (see Moodle) Try Pollard's Rho <- super satisfying. (full points if well - impemented with thoughtful examples). \n",
    "5. Advanced complexity analysis. \n",
    "6. Frequency anaylsis from our Piazza post.\n",
    "7. A deep dive in the mathematics of the RSA proofs.\n",
    "8. Advance code breaking challenges with  - this should be anorganized and well documented effort.\n",
    "9. More options available, all include a coding element. Please ask is you have an unique idea. \n",
    "\n",
    "The Custom Feature is an important part of the project, and it should be a non-trivial response. \n",
    "Please help organize your Custom Feature by breaking it up into sections - ie. not one long block of text.\n",
    "Mininimally executed, \"dialling it in\" type features will not recieve full points. \n",
    "See below for more detials on grading of this section.\n",
    "\n",
    "\n",
    "\n",
    " \n",
    "\n",
    "\n"
   ]
  },
  {
   "cell_type": "code",
   "execution_count": 65,
   "metadata": {},
   "outputs": [
    {
     "name": "stdout",
     "output_type": "stream",
     "text": [
      "\n",
      "------Welcome to RSA------\n",
      "Select an option below:\n",
      "1. Get public and private keys\n",
      "2. Encode Message\n",
      "3. Decode Message\n",
      "4. Break Code Using Basic Brute Force Factorization\n",
      "5. Quit\n"
     ]
    },
    {
     "name": "stdin",
     "output_type": "stream",
     "text": [
      "What would you like to do 6\n"
     ]
    },
    {
     "name": "stdout",
     "output_type": "stream",
     "text": [
      "Invald choice, please try again\n",
      "\n",
      "------Welcome to RSA------\n",
      "Select an option below:\n",
      "1. Get public and private keys\n",
      "2. Encode Message\n",
      "3. Decode Message\n",
      "4. Break Code Using Basic Brute Force Factorization\n",
      "5. Quit\n"
     ]
    },
    {
     "name": "stdin",
     "output_type": "stream",
     "text": [
      "What would you like to do 5\n"
     ]
    },
    {
     "name": "stdout",
     "output_type": "stream",
     "text": [
      "Goodbye!\n"
     ]
    }
   ],
   "source": [
    "import time \n",
    "\n",
    "def menu(): # Print out a menu with all the options that a user can pick\n",
    "    print(\"\")\n",
    "    print(\"------Welcome to RSA------\")\n",
    "    print(\"Select an option below:\")\n",
    "    print(\"1. Get public and private keys\")\n",
    "    print(\"2. Encode Message\")\n",
    "    print(\"3. Decode Message\")\n",
    "    print(\"4. Break Code Using Basic Brute Force Factorization\")\n",
    "    print(\"5. Quit\")\n",
    "\n",
    "def get_public_private_key(): \n",
    "    print(\"Please enter two prime numbers.\") \n",
    "    p = int(input(\"Enter your first prime numner:\")) # ask user to enter the first prime number\n",
    "    q = int(input(\"Enter your second prime numner:\")) # ask user to enter the second prime number\n",
    "    n, e = Find_Public_Key_e(p, q) # find the public key\n",
    "    d = Find_Private_Key_d(e, p, q) # find the private key\n",
    "    return n, e, d # return everything to the main function\n",
    "\n",
    "def encode_message(n, e):\n",
    "    message = input(\"What is the message you would like to encrypt:\") # ask user for a message\n",
    "    encoded_msg = Encode(n, e, message) # use the Encode function to encrypt the message\n",
    "    print(encoded_msg) #return the encoded message\n",
    "\n",
    "def decode_message(n, d):\n",
    "    encoded_numbers = input(\"What is the message you would like to decrypt (EXCLUDE []):\") # take in an encoded message   \n",
    "    encoded_str_list = encoded_numbers.split (\", \") #spilt the encoded message up at at each comma and instert it into a lsit\n",
    "    \n",
    "    encoded_msg = []\n",
    "    for i in encoded_str_list: # convert the list from a list of strings to a list of ints\n",
    "        encoded_msg.append(int(i))\n",
    "\n",
    "    decoded_msg = Decode(n, d, encoded_msg) # use the Decode function to decrypt the message\n",
    "    print(decoded_msg) #return the original message\n",
    "\n",
    "def brute_force(n, e):\n",
    "    start = time.time() # use time libary to track start time\n",
    "\n",
    "    p = factorize(n) # find the first factor of n\n",
    "\n",
    "    end = time.time()  # find the first factor of n\n",
    "    print(\"Factorize runtime = \" + str(end - start) +\"\") # print out runtime\n",
    "\n",
    "    d = find_private_key(n, p, e) # find the private key\n",
    "    \n",
    "    return d # return the value for d\n",
    "\n",
    "def main():\n",
    "    choice = 0 # declare a variable choice that is set\n",
    "    # declare variables to hold values needed for endcoding and decoding\n",
    "    n = 0\n",
    "    e = 0\n",
    "    d = 0\n",
    "    \n",
    "    while choice != 5: # don't exit untill the user chooses to quit\n",
    "        menu() # display the menu\n",
    "        choice = int(input(\"What would you like to do\")) # ask user to enter their choice\n",
    "        \n",
    "        if choice == 1: # if the user chooses this choice call get_public_private_key and then print out both key pairs\n",
    "            n, e, d = get_public_private_key()\n",
    "            print(\"Your public key pair is (\" + str(n) + \",\" + str(e) + \"). This will be used to encrypt messages.\")\n",
    "            print(\"Your private key pair is (\" + str(n) + \",\" + str(d) + \"). This will be used to decrypt messages.\")\n",
    "            \n",
    "        elif choice == 2:  # if the user chooses this choice call encode_message and then print out encoded message\n",
    "            print(\"Enter your public key pair\")\n",
    "            n = int(input(\"What is your value for n:\"))\n",
    "            e = int(input(\"What is your value for e:\"))\n",
    "            encode_message(n, e)\n",
    "            \n",
    "        elif choice == 3: # if the user chooses this choice call decode_message and then print out decoded message\n",
    "            print(\"Enter your private key pair\")\n",
    "            n = int(input(\"What is your value for n:\"))\n",
    "            d = int(input(\"What is your value for d:\"))\n",
    "            decode_message(n, d)\n",
    "            \n",
    "        elif choice == 4:  # if the user chooses this choice call find_private_key to break the RSA encryption\n",
    "            print(\"Enter your public key pair\")\n",
    "            n = int(input(\"What is your value for n:\"))\n",
    "            e = int(input(\"What is your value for e:\"))\n",
    "            d = brute_force(n, e)\n",
    "            print(\"Your private key pair is (\" + str(n) + \",\" + str(d) + \"). This will be used to decrypt messages.\")\n",
    "\n",
    "        elif choice == 5: #exit\n",
    "            break\n",
    "            \n",
    "        else: #check for invalid choice\n",
    "            print(\"Invald choice, please try again\")\n",
    "            \n",
    "    print(\"Goodbye!\") #print exiting message\n",
    "    \n",
    "if __name__ == '__main__':\n",
    "    main()"
   ]
  },
  {
   "cell_type": "markdown",
   "metadata": {},
   "source": [
    "## Self grading of custom feature ##\n",
    "\n",
    "Here in this block\n",
    "\n",
    "Please rate what score out of 15 your custom feature merits given the criteria above:\n",
    "\n",
    "* For example, if you are brand new to programming, using a main function could be an amazing feature - tell me how this helped you move to a new level.\n",
    "* In what ways did YOU push yourself? Did you try something you've never done before?\n",
    "* Alternatively, if you just did not have the time to do the custum feature, that is actually just fine and a reasonable choice for an adult. No judgment."
   ]
  },
  {
   "cell_type": "markdown",
   "metadata": {},
   "source": [
    "I would grade this a 11 out of 15. While I am not brand new to programing, I only have a year of experience as next semester will be the start of my sophomore year of college. Thus, so far I have only worked with C++ and while the majority of the concepts are the same, learning the syntax and working through those errors took me a long time. By doing this main function I was able to solidify a lot of those skills and also simplify my testing in the process. While this use of python was new to me, I have used menus in C++ so the main ideas did not change. Thus, while I did work through the process of learning a new language, as many of the ideas were the same it was more a matter of time to figure out syntax and watch python videos, not actually learn the concepts. However, even after this process I am a bit unclear about why the following code block is necessary."
   ]
  },
  {
   "cell_type": "code",
   "execution_count": 26,
   "metadata": {},
   "outputs": [
    {
     "name": "stdout",
     "output_type": "stream",
     "text": [
      "------Welcome to RSA------\n",
      "Select an option below:\n",
      "1. Get public and private keys\n",
      "2. Encode Message\n",
      "3. Decode Message\n",
      "4. Break Code Using Basic Brute Force Factorization\n",
      "5. Break Code Using Pollard's Rho\n",
      "6. Quit\n"
     ]
    },
    {
     "name": "stdin",
     "output_type": "stream",
     "text": [
      "What would you like to do 6\n"
     ]
    },
    {
     "name": "stdout",
     "output_type": "stream",
     "text": [
      "Goodbye!\n"
     ]
    }
   ],
   "source": [
    "if __name__ == '__main__':\n",
    "    main()"
   ]
  },
  {
   "cell_type": "markdown",
   "metadata": {},
   "source": [
    "To my understanding this just calls main, but I was unable to figure out why we cannot do so without the if clause. Other than that the proccess of writing this main function just took me a lot of time as I had to work through these syntax errors, but as I had been doing this the entire project, by the time I got around to this function I had already started to get the hang of the basics. Another problem I had to work with was inputs, as I didn't know how to declare types and even when I figured that out I had a lot of issuses with inputting the encoded message as a list of integers."
   ]
  }
 ],
 "metadata": {
  "kernelspec": {
   "display_name": "Python 3 (ipykernel)",
   "language": "python",
   "name": "python3"
  },
  "language_info": {
   "codemirror_mode": {
    "name": "ipython",
    "version": 3
   },
   "file_extension": ".py",
   "mimetype": "text/x-python",
   "name": "python",
   "nbconvert_exporter": "python",
   "pygments_lexer": "ipython3",
   "version": "3.10.8"
  }
 },
 "nbformat": 4,
 "nbformat_minor": 4
}
